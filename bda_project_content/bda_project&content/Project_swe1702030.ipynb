{
 "cells": [
  {
   "cell_type": "code",
   "execution_count": 2,
   "metadata": {},
   "outputs": [],
   "source": [
    "#import necessary module\n",
    "from pyspark import SparkConf, SparkContext\n",
    "from pyspark.sql import SparkSession\n",
    "from pyspark.sql.types import *\n",
    "from pyspark.sql.functions import *\n",
    "from pyspark.ml.feature import OneHotEncoder, StringIndexer, VectorAssembler\n",
    "from pyspark.ml import Pipeline\n",
    "from pyspark.ml.regression import LinearRegression\n",
    "import matplotlib.pyplot as plt\n",
    "from pyspark.ml.recommendation import ALS\n",
    "from pyspark.ml.evaluation import RegressionEvaluator\n",
    "\n",
    "import sys\n",
    "import math\n",
    "\n",
    "conf = SparkConf().setMaster('local[1]').setAppName('my app')\n",
    "sc = SparkContext.getOrCreate(conf=conf)\n",
    "spark = SparkSession.builder.appName('bda-project').getOrCreate()"
   ]
  },
  {
   "cell_type": "code",
   "execution_count": 57,
   "metadata": {},
   "outputs": [],
   "source": [
    "#defining schema\n",
    "schema = StructType([\n",
    "    StructField(\"adult\", StringType(), True),\n",
    "    StructField(\"belongs_to_collection\", StringType(), True),\n",
    "    StructField(\"budget\", FloatType(), True),\n",
    "    StructField(\"genres\", StringType(), True),\n",
    "    StructField(\"homepage\", StringType(), True),\n",
    "    StructField(\"id\", IntegerType(), True),\n",
    "    StructField(\"imbd_id\", IntegerType(), True),\n",
    "    StructField(\"original_language\", StringType(), True),\n",
    "    StructField(\"original_title\", StringType(), True),\n",
    "    StructField(\"overview\", StringType(), True),\n",
    "    StructField(\"popularity\", FloatType(), True),\n",
    "    StructField(\"poster_path\", StringType(), True),\n",
    "    StructField(\"production_companies\", StringType(), True),\n",
    "    StructField(\"production_countries\", StringType(), True),\n",
    "    StructField(\"release_date\", StringType(), True),\n",
    "    StructField(\"revenue\", FloatType(), True),\n",
    "    StructField(\"runtime\", FloatType(), True),\n",
    "    StructField(\"spoken_language\", StringType(), True),\n",
    "    StructField(\"status\", StringType(), True),\n",
    "    StructField(\"tagline\", StringType(), True),\n",
    "    StructField(\"title\", StringType(), True),\n",
    "    StructField(\"video\", StringType(), True),\n",
    "    StructField(\"vote_average\", FloatType(), True),\n",
    "    StructField(\"vote_count\", FloatType(), True), \n",
    "])\n",
    "\n",
    "data = spark.read.csv('../PySparkWork/data_project/movies_metadata.csv', header = True, schema = schema)"
   ]
  },
  {
   "cell_type": "code",
   "execution_count": 58,
   "metadata": {},
   "outputs": [],
   "source": [
    "#defining json\n",
    "jsonSchema = ArrayType(StructType([\n",
    "    StructField(\"id\", IntegerType()),\n",
    "    StructField(\"name\", StringType()),\n",
    "    StructField(\"poster_path\", StringType())\n",
    "                 ]))\n",
    "jsonSchema2 = ArrayType(StructType([\n",
    "    StructField(\"id\", IntegerType()),\n",
    "    StructField(\"name\", StringType())\n",
    "                 ]))\n",
    "jsonSchema3 = ArrayType(StructType([\n",
    "    StructField(\"name\", StringType()),\n",
    "    StructField(\"id\", IntegerType())\n",
    "                 ]))\n",
    "jsonSchema4 = ArrayType(StructType([\n",
    "    StructField(\"iso\", StringType()),\n",
    "    StructField(\"name\", StringType())\n",
    "                 ]))\n",
    "jsonSchema5 = ArrayType(StructType([\n",
    "    StructField(\"iso\", StringType()),\n",
    "    StructField(\"name\", StringType())\n",
    "                 ]))"
   ]
  },
  {
   "cell_type": "code",
   "execution_count": 59,
   "metadata": {},
   "outputs": [],
   "source": [
    "#data preprocess\n",
    "data = data.fillna(0)\n",
    "data = data.filter(col('adult').isNotNull() &\n",
    "                     col('belongs_to_collection').isNotNull() &\n",
    "                     col('genres').isNotNull() &\n",
    "                     col('homepage').isNotNull() &\n",
    "                     col('original_language').isNotNull() &\n",
    "                     col('original_title').isNotNull() &\n",
    "                     col('overview').isNotNull() &\n",
    "                     col('poster_path').isNotNull() &\n",
    "                     col('production_companies').isNotNull() &\n",
    "                     col('production_countries').isNotNull() &\n",
    "                     col('release_date').isNotNull() &\n",
    "                     col('spoken_language').isNotNull() &\n",
    "                     col('status').isNotNull() &\n",
    "                     col('tagline').isNotNull() &\n",
    "                     col('title').isNotNull() &\n",
    "                     col('video').isNotNull()                     \n",
    "                    )\n",
    "\n",
    "data = data.withColumn(\"belongs_to_collection\", from_json(data[\"belongs_to_collection\"], jsonSchema))\n",
    "data = data.withColumn(\"genres\", from_json(data[\"genres\"], jsonSchema2))\n",
    "data = data.withColumn(\"production_companies\", from_json(data[\"production_companies\"], jsonSchema3))\n",
    "data = data.withColumn(\"production_countries\", from_json(data[\"production_countries\"], jsonSchema4))\n",
    "data = data.withColumn(\"spoken_language\", from_json(data[\"spoken_language\"], jsonSchema5))"
   ]
  },
  {
   "cell_type": "code",
   "execution_count": 60,
   "metadata": {},
   "outputs": [
    {
     "name": "stdout",
     "output_type": "stream",
     "text": [
      "root\n",
      " |-- adult: string (nullable = true)\n",
      " |-- belongs_to_collection: array (nullable = true)\n",
      " |    |-- element: struct (containsNull = true)\n",
      " |    |    |-- id: integer (nullable = true)\n",
      " |    |    |-- name: string (nullable = true)\n",
      " |    |    |-- poster_path: string (nullable = true)\n",
      " |-- budget: float (nullable = false)\n",
      " |-- genres: array (nullable = true)\n",
      " |    |-- element: struct (containsNull = true)\n",
      " |    |    |-- id: integer (nullable = true)\n",
      " |    |    |-- name: string (nullable = true)\n",
      " |-- homepage: string (nullable = true)\n",
      " |-- id: integer (nullable = true)\n",
      " |-- imbd_id: integer (nullable = true)\n",
      " |-- original_language: string (nullable = true)\n",
      " |-- original_title: string (nullable = true)\n",
      " |-- overview: string (nullable = true)\n",
      " |-- popularity: float (nullable = false)\n",
      " |-- poster_path: string (nullable = true)\n",
      " |-- production_companies: array (nullable = true)\n",
      " |    |-- element: struct (containsNull = true)\n",
      " |    |    |-- name: string (nullable = true)\n",
      " |    |    |-- id: integer (nullable = true)\n",
      " |-- production_countries: array (nullable = true)\n",
      " |    |-- element: struct (containsNull = true)\n",
      " |    |    |-- iso: string (nullable = true)\n",
      " |    |    |-- name: string (nullable = true)\n",
      " |-- release_date: string (nullable = true)\n",
      " |-- revenue: float (nullable = false)\n",
      " |-- runtime: float (nullable = false)\n",
      " |-- spoken_language: array (nullable = true)\n",
      " |    |-- element: struct (containsNull = true)\n",
      " |    |    |-- iso: string (nullable = true)\n",
      " |    |    |-- name: string (nullable = true)\n",
      " |-- status: string (nullable = true)\n",
      " |-- tagline: string (nullable = true)\n",
      " |-- title: string (nullable = true)\n",
      " |-- video: string (nullable = true)\n",
      " |-- vote_average: float (nullable = false)\n",
      " |-- vote_count: float (nullable = false)\n",
      "\n"
     ]
    }
   ],
   "source": [
    "data.printSchema()"
   ]
  },
  {
   "cell_type": "markdown",
   "metadata": {},
   "source": [
    "### 1. Build regression models to predict movie revenue and vote averages based on a certain metric."
   ]
  },
  {
   "cell_type": "code",
   "execution_count": 141,
   "metadata": {},
   "outputs": [
    {
     "name": "stdout",
     "output_type": "stream",
     "text": [
      "+------------+--------------------+--------------------+\n",
      "|     revenue|            features|          prediction|\n",
      "+------------+--------------------+--------------------+\n",
      "|2.78796518E9|(299,[0,3,94,177,...| 6.474714579283264E8|\n",
      "|1.51352883E9|(299,[0,3,94,177,...| 4.455929761569248E8|\n",
      "|1.50624934E9|(299,[0,3,94,177,...|5.2226747289941514E8|\n",
      "|1.10856102E9|(299,[0,3,94,177,...| 5.402405839199818E8|\n",
      "|1.02006336E9|(299,[0,3,94,177,...|3.1017449421305764E8|\n",
      "+------------+--------------------+--------------------+\n",
      "only showing top 5 rows\n",
      "\n",
      "r2: 0.569138\n"
     ]
    }
   ],
   "source": [
    "stages = []\n",
    "categoricalColumns = ['adult', 'original_language', 'status', 'video']\n",
    "\n",
    "for categoricalCol in categoricalColumns:\n",
    "    stringIndexer = StringIndexer(inputCol = categoricalCol, outputCol = categoricalCol + 'Index')\n",
    "    encoder = OneHotEncoder(inputCols=[stringIndexer.getOutputCol()], outputCols=[categoricalCol + \"classVec\"])\n",
    "    stages += [stringIndexer, encoder]\n",
    "    \n",
    "numericCols = ['budget', 'popularity', 'runtime', 'vote_average', 'vote_count']\n",
    "assemblerInputs = [c + 'classVec' for c in categoricalColumns] + numericCols\n",
    "assembler = VectorAssembler(inputCols=assemblerInputs, outputCol='features')\n",
    "stages += [assembler]\n",
    "\n",
    "\n",
    "pipeline = Pipeline(stages = stages)\n",
    "pipelineModel = pipeline.fit(data)\n",
    "vdata = pipelineModel.transform(data)\n",
    "selectedCols = ['revenue', 'features']\n",
    "vdata = vdata.select(selectedCols)\n",
    "(training, test) = vdata.randomSplit([0.8, 0.2])\n",
    "\n",
    "lr = LinearRegression(featuresCol = 'features', labelCol='revenue', maxIter=3, regParam=0.3, elasticNetParam=0.8)\n",
    "lr_model = lr.fit(training)\n",
    "prediction = lr_model.transform(test)\n",
    "prediction.select(\"prediction\",\"revenue\",\"features\")\n",
    "prediction.sort(prediction.revenue, ascending=False).show(5)\n",
    "trainingSummary = lr_model.summary\n",
    "print(\"r2: %f\" % trainingSummary.r2)"
   ]
  },
  {
   "cell_type": "code",
   "execution_count": 147,
   "metadata": {},
   "outputs": [
    {
     "name": "stdout",
     "output_type": "stream",
     "text": [
      "+------------+--------------------+------------------+\n",
      "|vote_average|            features|        prediction|\n",
      "+------------+--------------------+------------------+\n",
      "|2.96655424E8|(299,[0,3,122,197...| 1.397639582453258|\n",
      "|        84.0|(299,[0,15,173,18...| 93.64828261183598|\n",
      "|         8.5|(299,[0,3,94,177,...| 6.000670724256101|\n",
      "|         8.1|(299,[0,3,94,177,...|5.8651663949333175|\n",
      "|         8.1|(299,[0,3,94,177,...| 5.837089447314992|\n",
      "+------------+--------------------+------------------+\n",
      "only showing top 5 rows\n",
      "\n",
      "r2: 0.999644\n"
     ]
    }
   ],
   "source": [
    "stages = []\n",
    "categoricalColumns = ['adult', 'original_language', 'status', 'video']\n",
    "\n",
    "for categoricalCol in categoricalColumns:\n",
    "    stringIndexer = StringIndexer(inputCol = categoricalCol, outputCol = categoricalCol + 'Index')\n",
    "    encoder = OneHotEncoder(inputCols=[stringIndexer.getOutputCol()], outputCols=[categoricalCol + \"classVec\"])\n",
    "    stages += [stringIndexer, encoder]\n",
    "    \n",
    "numericCols = ['budget', 'popularity', 'runtime', 'revenue', 'vote_count']\n",
    "assemblerInputs = [c + 'classVec' for c in categoricalColumns] + numericCols\n",
    "assembler = VectorAssembler(inputCols=assemblerInputs, outputCol='features')\n",
    "stages += [assembler]\n",
    "\n",
    "pipeline = Pipeline(stages = stages)\n",
    "pipelineModel = pipeline.fit(data)\n",
    "vdata = pipelineModel.transform(data)\n",
    "selectedCols = ['vote_average', 'features']\n",
    "vdata = vdata.select(selectedCols)\n",
    "(training, test) = vdata.randomSplit([0.8, 0.2])\n",
    "\n",
    "lr = LinearRegression(featuresCol = 'features', labelCol='vote_average', maxIter=10, regParam=0.3, elasticNetParam=0.8)\n",
    "lr_model = lr.fit(training)\n",
    "prediction = lr_model.transform(test)\n",
    "prediction.select(\"prediction\",\"vote_average\",\"features\")\n",
    "prediction.sort(prediction.vote_average, ascending=False).show(5)\n",
    "trainingSummary = lr_model.summary\n",
    "print(\"r2: %f\" % trainingSummary.r2)"
   ]
  },
  {
   "cell_type": "markdown",
   "metadata": {},
   "source": [
    "### 2. Analyze that what movies tend to get higher vote averages on TMDB. Try to use more figures with data visualization methods to illustrate your analysis."
   ]
  },
  {
   "cell_type": "code",
   "execution_count": 67,
   "metadata": {},
   "outputs": [],
   "source": [
    "df = data.toPandas()"
   ]
  },
  {
   "cell_type": "code",
   "execution_count": 68,
   "metadata": {},
   "outputs": [
    {
     "data": {
      "text/plain": [
       "<matplotlib.axes._subplots.AxesSubplot at 0x7f26e52c6a20>"
      ]
     },
     "execution_count": 68,
     "metadata": {},
     "output_type": "execute_result"
    },
    {
     "data": {
      "image/png": "[encoded data removed]",
      "text/plain": [
       "<Figure size 432x288 with 1 Axes>"
      ]
     },
     "metadata": {
      "needs_background": "light"
     },
     "output_type": "display_data"
    }
   ],
   "source": [
    "df.plot(kind='scatter',x='budget',y='vote_average')"
   ]
  },
  {
   "cell_type": "markdown",
   "metadata": {},
   "source": [
    "###### This is a graph plotted with budget against the average of votes of the movies. It can be seen that movies with the highest vote average are surprisingly movies with lower budget. This indicates that high budget does not necessarily means higher average of vote. That said, the variances of vote average among the movies with low budget is high, so movies with low budget is that accurate of an indicator."
   ]
  },
  {
   "cell_type": "code",
   "execution_count": 69,
   "metadata": {},
   "outputs": [
    {
     "data": {
      "text/plain": [
       "<matplotlib.axes._subplots.AxesSubplot at 0x7f26e3231390>"
      ]
     },
     "execution_count": 69,
     "metadata": {},
     "output_type": "execute_result"
    },
    {
     "data": {
      "image/png": "[encoded data removed]",
      "text/plain": [
       "<Figure size 432x288 with 1 Axes>"
      ]
     },
     "metadata": {
      "needs_background": "light"
     },
     "output_type": "display_data"
    }
   ],
   "source": [
    "df.plot(kind='scatter',x='vote_count',y='vote_average')"
   ]
  },
  {
   "cell_type": "markdown",
   "metadata": {},
   "source": [
    "###### This is a graph plotted with vote counts against the average of votes of the movies. The highest vote average here is the movies with around 6000 vote counts. The vote average of the movies with low vote count is also high in some of them but there are a wide variance among them. This means that the possiblity of a movie with low vote count getting low average of vote is not far from getting a high vote average."
   ]
  },
  {
   "cell_type": "code",
   "execution_count": 70,
   "metadata": {},
   "outputs": [
    {
     "data": {
      "text/plain": [
       "<matplotlib.axes._subplots.AxesSubplot at 0x7f26e326d470>"
      ]
     },
     "execution_count": 70,
     "metadata": {},
     "output_type": "execute_result"
    },
    {
     "data": {
      "image/png": "[encoded data removed]",
      "text/plain": [
       "<Figure size 432x288 with 1 Axes>"
      ]
     },
     "metadata": {
      "needs_background": "light"
     },
     "output_type": "display_data"
    }
   ],
   "source": [
    "df.plot(kind='scatter',x='runtime',y='vote_average')"
   ]
  },
  {
   "cell_type": "markdown",
   "metadata": {},
   "source": [
    "###### This graph is plotted with the variable runtime against the average of vote. It can be seen here that most of the movies has a runtime of 100-150. The highest vote average would be on the movie with around 180 runtime. Most of the movies with high average of votes are in 150. It can be stated that movies with around 150 runtime has a higher vote average. This could be due to the fact that the expectation of movie goers nowadays expect a runtime of around 2.5 hours in a movie "
   ]
  },
  {
   "cell_type": "markdown",
   "metadata": {},
   "source": [
    "### 3. Use collaborative filtering to build a movie recommendation system with two functions:\n",
    "### a. Suggest top N movies similar to a given movie title"
   ]
  },
  {
   "cell_type": "code",
   "execution_count": 71,
   "metadata": {},
   "outputs": [],
   "source": [
    "# defining functions for reading data and training als model\n",
    "def get_ratings_df(ratings_path, spark):\n",
    "    schema = StructType([\n",
    "        StructField('userId', IntegerType(), True),\n",
    "        StructField('movieId', IntegerType(), True),\n",
    "        StructField('rating', FloatType(), True),\n",
    "        StructField('timestamp', FloatType(), True)\n",
    "    ])\n",
    "\n",
    "    ratings_df = spark.read\\\n",
    "        .csv(ratings_path, header=True, schema=schema)\n",
    "\n",
    "    return ratings_df\n",
    "\n",
    "\n",
    "def create_model(train_df):\n",
    "    model = ALS(maxIter=5, regParam=0.01, userCol='userId', itemCol='movieId', ratingCol='rating')\n",
    "    return model.fit(train_df)"
   ]
  },
  {
   "cell_type": "code",
   "execution_count": 75,
   "metadata": {},
   "outputs": [],
   "source": [
    "ratings_path = sys.argv[1]\n",
    "\n",
    "rating = get_ratings_df('../PySparkWork/data_project/ratings.csv', spark)\n",
    "\n",
    "rating = rating.fillna(0)\n",
    "(training, test) = rating.randomSplit([0.8, 0.2])\n",
    "model = create_model(training)"
   ]
  },
  {
   "cell_type": "code",
   "execution_count": 81,
   "metadata": {},
   "outputs": [],
   "source": [
    "movies = rating.select(model.getItemCol()).distinct().limit(3)\n",
    "movieSubSetRecs = model.recommendForItemSubset(movies, 10)"
   ]
  },
  {
   "cell_type": "code",
   "execution_count": 82,
   "metadata": {},
   "outputs": [],
   "source": [
    "#get user from one single movie, these users represent one movie (lets represent it as movieA)\n",
    "ls = movieSubSetRecs.collect()[1][1]\n",
    "\n",
    "def df(ls):\n",
    "    ls2 = []\n",
    "    for x in ls:\n",
    "        ls2.append(x[0])\n",
    "    return ls2\n",
    "\n",
    "#append the usersId into a list\n",
    "ls = df(ls)"
   ]
  },
  {
   "cell_type": "code",
   "execution_count": 83,
   "metadata": {},
   "outputs": [
    {
     "data": {
      "text/plain": [
       "DataFrame[userId: int]"
      ]
     },
     "execution_count": 83,
     "metadata": {},
     "output_type": "execute_result"
    }
   ],
   "source": [
    "#use the list to create dataframe\n",
    "movie = spark.createDataFrame(ls, IntegerType()).withColumnRenamed('value', 'userId')\n",
    "movie"
   ]
  },
  {
   "cell_type": "code",
   "execution_count": 84,
   "metadata": {},
   "outputs": [
    {
     "data": {
      "text/plain": [
       "Row(userId=58273, recommendations=[Row(movieId=144202, rating=7.587693691253662), Row(movieId=159761, rating=7.536496162414551), Row(movieId=149709, rating=7.518377780914307), Row(movieId=143571, rating=7.288076400756836), Row(movieId=175635, rating=7.1684184074401855), Row(movieId=142244, rating=7.1684184074401855), Row(movieId=117352, rating=7.084639549255371), Row(movieId=114687, rating=7.080384731292725), Row(movieId=119661, rating=6.997645378112793), Row(movieId=142727, rating=6.985855579376221)])"
      ]
     },
     "execution_count": 84,
     "metadata": {},
     "output_type": "execute_result"
    }
   ],
   "source": [
    "#use the movie dataframe to recommend a list of movie based on movieA\n",
    "userSubsetRecs = model.recommendForUserSubset(movie, 10)\n",
    "userSubsetRecs.collect()[1]"
   ]
  },
  {
   "cell_type": "code",
   "execution_count": 85,
   "metadata": {},
   "outputs": [],
   "source": [
    "lst = userSubsetRecs.collect()[1]"
   ]
  },
  {
   "cell_type": "code",
   "execution_count": 125,
   "metadata": {},
   "outputs": [],
   "source": [
    "def arrange(lst):\n",
    "    ls = []\n",
    "    for x in range(10):\n",
    "        ls.append(lst[1][x][0])\n",
    "    return ls"
   ]
  },
  {
   "cell_type": "code",
   "execution_count": 126,
   "metadata": {},
   "outputs": [
    {
     "data": {
      "text/plain": [
       "[144202,\n",
       " 159761,\n",
       " 149709,\n",
       " 143571,\n",
       " 175635,\n",
       " 142244,\n",
       " 117352,\n",
       " 114687,\n",
       " 119661,\n",
       " 142727]"
      ]
     },
     "execution_count": 126,
     "metadata": {},
     "output_type": "execute_result"
    }
   ],
   "source": [
    "arrange(lst)"
   ]
  },
  {
   "cell_type": "markdown",
   "metadata": {},
   "source": [
    "###### Movie recommanded for movie id 58273 are as above."
   ]
  },
  {
   "cell_type": "markdown",
   "metadata": {},
   "source": [
    "### b. Predict user rating for the movies they have not rated for. You may use a test set to test your prediction accuracy, in which the test ratings can be regarded as not rated during training"
   ]
  },
  {
   "cell_type": "code",
   "execution_count": 76,
   "metadata": {},
   "outputs": [
    {
     "data": {
      "text/plain": [
       "Row(userId=463, recommendations=[Row(movieId=164937, rating=4.142244815826416), Row(movieId=159915, rating=3.9665403366088867), Row(movieId=161662, rating=3.962632656097412), Row(movieId=81072, rating=3.904557228088379), Row(movieId=66389, rating=3.897291898727417), Row(movieId=166812, rating=3.8800480365753174), Row(movieId=101706, rating=3.8416693210601807), Row(movieId=81117, rating=3.818307399749756), Row(movieId=106082, rating=3.801576852798462), Row(movieId=165689, rating=3.8013014793395996)])"
      ]
     },
     "execution_count": 76,
     "metadata": {},
     "output_type": "execute_result"
    }
   ],
   "source": [
    "user = model.recommendForAllUsers(10)\n",
    "user.collect()[1]"
   ]
  },
  {
   "cell_type": "code",
   "execution_count": 77,
   "metadata": {},
   "outputs": [
    {
     "name": "stdout",
     "output_type": "stream",
     "text": [
      "Root-mean-square error = 0.8147549929681187\n"
     ]
    }
   ],
   "source": [
    "model.setColdStartStrategy(\"drop\")\n",
    "\n",
    "predictions = model.transform(test)\n",
    "evaluator = RegressionEvaluator(metricName=\"rmse\", labelCol=\"rating\",\n",
    "                                predictionCol=\"prediction\")\n",
    "rmse = evaluator.evaluate(predictions)\n",
    "print(\"Root-mean-square error = \" + str(rmse))"
   ]
  },
  {
   "cell_type": "markdown",
   "metadata": {},
   "source": [
    "###### RMSE for this model is very low which indicates the model trained has a high accuracy in predicting."
   ]
  }
 ],
 "metadata": {
  "kernelspec": {
   "display_name": "Python 3",
   "language": "python",
   "name": "python3"
  },
  "language_info": {
   "codemirror_mode": {
    "name": "ipython",
    "version": 3
   },
   "file_extension": ".py",
   "mimetype": "text/x-python",
   "name": "python",
   "nbconvert_exporter": "python",
   "pygments_lexer": "ipython3",
   "version": "3.8.3"
  }
 },
 "nbformat": 4,
 "nbformat_minor": 4
}
