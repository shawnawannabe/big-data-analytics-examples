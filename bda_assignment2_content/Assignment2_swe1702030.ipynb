{
 "cells": [
  {
   "cell_type": "code",
   "execution_count": 1,
   "metadata": {},
   "outputs": [
    {
     "data": {
      "text/html": [
       "\n",
       "        <div>\n",
       "            <p><b>SparkContext</b></p>\n",
       "\n",
       "            <p><a href=\"http://192.168.119.128:4040\">Spark UI</a></p>\n",
       "\n",
       "            <dl>\n",
       "              <dt>Version</dt>\n",
       "                <dd><code>v3.0.0-preview2</code></dd>\n",
       "              <dt>Master</dt>\n",
       "                <dd><code>local[1]</code></dd>\n",
       "              <dt>AppName</dt>\n",
       "                <dd><code>my app</code></dd>\n",
       "            </dl>\n",
       "        </div>\n",
       "        "
      ],
      "text/plain": [
       "<SparkContext master=local[1] appName=my app>"
      ]
     },
     "execution_count": 1,
     "metadata": {},
     "output_type": "execute_result"
    }
   ],
   "source": [
    "from pyspark import SparkConf, SparkContext\n",
    "conf = SparkConf().setMaster('local[1]').setAppName('my app')\n",
    "sc = SparkContext.getOrCreate(conf=conf)\n",
    "sc"
   ]
  },
  {
   "cell_type": "code",
   "execution_count": 2,
   "metadata": {},
   "outputs": [],
   "source": [
    "raw_content = sc.textFile('stock_prices.csv')"
   ]
  },
  {
   "cell_type": "code",
   "execution_count": 3,
   "metadata": {},
   "outputs": [
    {
     "data": {
      "text/plain": [
       "1246"
      ]
     },
     "execution_count": 3,
     "metadata": {},
     "output_type": "execute_result"
    }
   ],
   "source": [
    "raw_content.count()"
   ]
  },
  {
   "cell_type": "code",
   "execution_count": 6,
   "metadata": {},
   "outputs": [
    {
     "data": {
      "text/plain": [
       "['date,open,high,low,close,volume,ticker',\n",
       " '2016-11-02,111.4,112.35,111.23,111.59,28331709,AAPL',\n",
       " '2016-11-01,113.46,113.77,110.53,111.49,43825812,AAPL',\n",
       " '2016-10-31,113.65,114.23,113.2,113.54,26419398,AAPL',\n",
       " '2016-10-28,113.87,115.21,113.45,113.72,37861662,AAPL']"
      ]
     },
     "execution_count": 6,
     "metadata": {},
     "output_type": "execute_result"
    }
   ],
   "source": [
    "raw_content.take(5)\n"
   ]
  },
  {
   "cell_type": "code",
   "execution_count": 8,
   "metadata": {},
   "outputs": [
    {
     "data": {
      "text/plain": [
       "[['date', 'open', 'high', 'low', 'close', 'volume', 'ticker'],\n",
       " ['2016-11-02', '111.4', '112.35', '111.23', '111.59', '28331709', 'AAPL'],\n",
       " ['2016-11-01', '113.46', '113.77', '110.53', '111.49', '43825812', 'AAPL']]"
      ]
     },
     "execution_count": 8,
     "metadata": {},
     "output_type": "execute_result"
    }
   ],
   "source": [
    "content = raw_content.map(lambda x : x.split(','))\n",
    "content.take(3)"
   ]
  },
  {
   "cell_type": "code",
   "execution_count": 392,
   "metadata": {},
   "outputs": [],
   "source": [
    "header =content.first()\n",
    "rows_only = content.filter(lambda x: x != header)"
   ]
  },
  {
   "cell_type": "code",
   "execution_count": 398,
   "metadata": {},
   "outputs": [],
   "source": [
    "from pyspark.sql import SparkSession\n",
    "spark = SparkSession(sc)\n",
    "import pyspark.sql.functions as F"
   ]
  },
  {
   "cell_type": "markdown",
   "metadata": {},
   "source": [
    "### a."
   ]
  },
  {
   "cell_type": "code",
   "execution_count": 38,
   "metadata": {
    "scrolled": false
   },
   "outputs": [
    {
     "name": "stdout",
     "output_type": "stream",
     "text": [
      "+----------+------+------+------+------+--------+------+\n",
      "|      date|  open|  high|   low| close|  volume|ticker|\n",
      "+----------+------+------+------+------+--------+------+\n",
      "|2016-11-02| 111.4|112.35|111.23|111.59|28331709|  AAPL|\n",
      "|2016-11-01|113.46|113.77|110.53|111.49|43825812|  AAPL|\n",
      "|2016-10-31|113.65|114.23| 113.2|113.54|26419398|  AAPL|\n",
      "+----------+------+------+------+------+--------+------+\n",
      "only showing top 3 rows\n",
      "\n"
     ]
    }
   ],
   "source": [
    "df = spark.createDataFrame(rows_only, ['date', 'open', 'high', 'low', 'close', 'volume', 'ticker'])\n",
    "df.show(3)"
   ]
  },
  {
   "cell_type": "code",
   "execution_count": 49,
   "metadata": {
    "scrolled": true
   },
   "outputs": [
    {
     "name": "stdout",
     "output_type": "stream",
     "text": [
      "+----------+------+------+------+------+--------+------+--------------------+\n",
      "|      date|  open|  high|   low| close|  volume|ticker|        daily_return|\n",
      "+----------+------+------+------+------+--------+------+--------------------+\n",
      "|2016-11-02| 111.4|112.35|111.23|111.59|28331709|  AAPL| 0.18999999999999773|\n",
      "|2016-11-01|113.46|113.77|110.53|111.49|43825812|  AAPL| -1.9699999999999989|\n",
      "|2016-10-31|113.65|114.23| 113.2|113.54|26419398|  AAPL|-0.10999999999999943|\n",
      "+----------+------+------+------+------+--------+------+--------------------+\n",
      "only showing top 3 rows\n",
      "\n"
     ]
    }
   ],
   "source": [
    "df_daily_return = df.withColumn(\"daily_return\", df.close-df.open)\n",
    "df_daily_return.show(3)"
   ]
  },
  {
   "cell_type": "code",
   "execution_count": 289,
   "metadata": {},
   "outputs": [
    {
     "data": {
      "text/plain": [
       "[Row(avg(daily_return)=-0.07232931726907578)]"
      ]
     },
     "execution_count": 289,
     "metadata": {},
     "output_type": "execute_result"
    }
   ],
   "source": [
    "df_daily_return.agg(F.avg(df_daily_return.daily_return)).collect()"
   ]
  },
  {
   "cell_type": "code",
   "execution_count": 397,
   "metadata": {
    "scrolled": true
   },
   "outputs": [
    {
     "data": {
      "text/plain": [
       "[Row(ticker='BLK', avg(daily_return)=0.15248995983935915),\n",
       " Row(ticker='MSFT', avg(daily_return)=0.031164658634538173),\n",
       " Row(ticker='AAPL', avg(daily_return)=0.017991967871485902),\n",
       " Row(ticker='GOOG', avg(daily_return)=-0.17883534136546128),\n",
       " Row(ticker='TSLA', avg(daily_return)=-0.3844578313253008)]"
      ]
     },
     "execution_count": 397,
     "metadata": {},
     "output_type": "execute_result"
    }
   ],
   "source": [
    "gdf = df_daily_return.groupBy(df_daily_return.ticker)\n",
    "gdf.agg(F.avg(df_daily_return.daily_return)).sort(F.desc(\"avg(daily_return)\")).collect()"
   ]
  },
  {
   "cell_type": "markdown",
   "metadata": {},
   "source": [
    "## b."
   ]
  },
  {
   "cell_type": "code",
   "execution_count": 57,
   "metadata": {
    "scrolled": true
   },
   "outputs": [
    {
     "name": "stdout",
     "output_type": "stream",
     "text": [
      "+----------+------+------+------+------+--------+------+-------------------+\n",
      "|      date|  open|  high|   low| close|  volume|ticker|       daily_return|\n",
      "+----------+------+------+------+------+--------+------+-------------------+\n",
      "|2016-11-02| 111.4|112.35|111.23|111.59|28331709|  AAPL|0.18999999999999773|\n",
      "|2016-10-26|114.31| 115.7|113.31|115.59|66134219|  AAPL| 1.2800000000000011|\n",
      "+----------+------+------+------+------+--------+------+-------------------+\n",
      "only showing top 2 rows\n",
      "\n"
     ]
    }
   ],
   "source": [
    "pos_val = df_daily_return.filter(F.col(\"daily_return\") >=0)\n",
    "pos_val.show(2)"
   ]
  },
  {
   "cell_type": "code",
   "execution_count": 433,
   "metadata": {},
   "outputs": [
    {
     "data": {
      "text/plain": [
       "[Row(ticker='AAPL', count(daily_return)=134),\n",
       " Row(ticker='MSFT', count(daily_return)=128),\n",
       " Row(ticker='BLK', count(daily_return)=127),\n",
       " Row(ticker='GOOG', count(daily_return)=123),\n",
       " Row(ticker='TSLA', count(daily_return)=113)]"
      ]
     },
     "execution_count": 433,
     "metadata": {},
     "output_type": "execute_result"
    }
   ],
   "source": [
    "gdf2 = pos_val.groupBy(pos_val.ticker)\n",
    "gdf2.agg(F.count(pos_val.daily_return)).sort(F.desc(\"count(daily_return)\")).collect()"
   ]
  },
  {
   "cell_type": "markdown",
   "metadata": {},
   "source": [
    "#### stock with greatest positive daily return = AAPL"
   ]
  },
  {
   "cell_type": "markdown",
   "metadata": {},
   "source": [
    "## c."
   ]
  },
  {
   "cell_type": "code",
   "execution_count": 76,
   "metadata": {},
   "outputs": [
    {
     "name": "stdout",
     "output_type": "stream",
     "text": [
      "+------+------------------+\n",
      "|ticker|        price_diff|\n",
      "+------+------------------+\n",
      "|  AAPL|1.1199999999999903|\n",
      "|  AAPL| 3.239999999999995|\n",
      "|  AAPL|1.0300000000000011|\n",
      "|  AAPL| 1.759999999999991|\n",
      "|  AAPL|1.7600000000000051|\n",
      "|  AAPL|2.3900000000000006|\n",
      "|  AAPL|1.0499999999999972|\n",
      "|  AAPL|0.7399999999999949|\n",
      "|  AAPL|0.6299999999999955|\n",
      "|  AAPL|1.0499999999999972|\n",
      "|  AAPL| 3.960000000000008|\n",
      "|  AAPL|0.7599999999999909|\n",
      "|  AAPL|1.0600000000000023|\n",
      "|  AAPL|1.0400000000000063|\n",
      "|  AAPL|1.7199999999999989|\n",
      "|  AAPL| 1.230000000000004|\n",
      "|  AAPL| 2.489999999999995|\n",
      "|  AAPL| 2.030000000000001|\n",
      "|  AAPL|1.0499999999999972|\n",
      "|  AAPL| 1.210000000000008|\n",
      "+------+------------------+\n",
      "only showing top 20 rows\n",
      "\n"
     ]
    }
   ],
   "source": [
    "df_price_diff = df.withColumn(\"price_diff\", df.high - df.low)\n",
    "df_price_diff.select(F.col('ticker'),F.col(\"price_diff\")).show()"
   ]
  },
  {
   "cell_type": "code",
   "execution_count": 107,
   "metadata": {},
   "outputs": [
    {
     "data": {
      "text/plain": [
       "DataFrame[date: string, open: string, high: string, low: string, close: string, volume: string, ticker: string, price_diff: double]"
      ]
     },
     "execution_count": 107,
     "metadata": {},
     "output_type": "execute_result"
    }
   ],
   "source": [
    "df_price_diff"
   ]
  },
  {
   "cell_type": "code",
   "execution_count": 405,
   "metadata": {},
   "outputs": [],
   "source": [
    "df_ts = df_price_diff.withColumn(\"time_stamp\", F.to_timestamp(\"date\"))"
   ]
  },
  {
   "cell_type": "code",
   "execution_count": 404,
   "metadata": {},
   "outputs": [
    {
     "name": "stdout",
     "output_type": "stream",
     "text": [
      "+------+-----------------------+\n",
      "|ticker|stddev_samp(price_diff)|\n",
      "+------+-----------------------+\n",
      "|  GOOG|      6.407324009690074|\n",
      "|  TSLA|     3.3510576333377227|\n",
      "|   BLK|      3.055361869614563|\n",
      "|  AAPL|     0.8364876885309602|\n",
      "|  MSFT|     0.4053488922473723|\n",
      "+------+-----------------------+\n",
      "\n"
     ]
    }
   ],
   "source": [
    "a_std = df_ts.groupBy(\"ticker\").agg(stddev(\"price_diff\"))\n",
    "a_std.sort(F.desc(\"stddev_samp(price_diff)\")).show()"
   ]
  },
  {
   "cell_type": "markdown",
   "metadata": {},
   "source": [
    "### most volatile stock = GOOG"
   ]
  },
  {
   "cell_type": "markdown",
   "metadata": {},
   "source": [
    "## d."
   ]
  },
  {
   "cell_type": "code",
   "execution_count": 183,
   "metadata": {
    "collapsed": true
   },
   "outputs": [
    {
     "name": "stdout",
     "output_type": "stream",
     "text": [
      "+----------+------+------+------+------+--------+------+--------------------+\n",
      "|      date|  open|  high|   low| close|  volume|ticker|        daily_return|\n",
      "+----------+------+------+------+------+--------+------+--------------------+\n",
      "|2016-11-02| 111.4|112.35|111.23|111.59|28331709|  AAPL| 0.18999999999999773|\n",
      "|2016-11-01|113.46|113.77|110.53|111.49|43825812|  AAPL| -1.9699999999999989|\n",
      "|2016-10-31|113.65|114.23| 113.2|113.54|26419398|  AAPL|-0.10999999999999943|\n",
      "|2016-10-28|113.87|115.21|113.45|113.72|37861662|  AAPL|-0.15000000000000568|\n",
      "|2016-10-27|115.39|115.86| 114.1|114.48|34562045|  AAPL| -0.9099999999999966|\n",
      "|2016-10-26|114.31| 115.7|113.31|115.59|66134219|  AAPL|  1.2800000000000011|\n",
      "|2016-10-25|117.95|118.36|117.31|118.25|48128970|  AAPL| 0.29999999999999716|\n",
      "|2016-10-24| 117.1|117.74|   117|117.65|23538673|  AAPL|  0.5500000000000114|\n",
      "|2016-10-21|116.81|116.91|116.28| 116.6|23192665|  AAPL|-0.21000000000000796|\n",
      "|2016-10-20|116.86|117.38|116.33|117.06|24125801|  AAPL| 0.20000000000000284|\n",
      "|2016-10-19|117.25|117.76| 113.8|117.12|20034594|  AAPL|-0.12999999999999545|\n",
      "|2016-10-18|118.18|118.21|117.45|117.47|24553478|  AAPL|  -0.710000000000008|\n",
      "|2016-10-17|117.33|117.84|116.78|117.55|23624896|  AAPL| 0.21999999999999886|\n",
      "|2016-10-14|117.88|118.17|117.13|117.63|35652191|  AAPL|               -0.25|\n",
      "|2016-10-13|116.79|117.44|115.72|116.98|35192406|  AAPL| 0.18999999999999773|\n",
      "|2016-10-12|117.35|117.98|116.75|117.34|37586787|  AAPL|-0.00999999999999...|\n",
      "|2016-10-11| 117.7|118.69| 116.2| 116.3|64041043|  AAPL| -1.4000000000000057|\n",
      "|2016-10-10|115.02|116.75|114.72|116.05|36235956|  AAPL|  1.0300000000000011|\n",
      "|2016-10-07|114.31|114.56|113.51|114.06|24358443|  AAPL|               -0.25|\n",
      "|2016-10-06| 113.7|114.34|113.13|113.89|28779313|  AAPL| 0.18999999999999773|\n",
      "+----------+------+------+------+------+--------+------+--------------------+\n",
      "only showing top 20 rows\n",
      "\n"
     ]
    }
   ],
   "source": [
    "df_daily_return.show()"
   ]
  },
  {
   "cell_type": "code",
   "execution_count": 184,
   "metadata": {},
   "outputs": [
    {
     "data": {
      "text/plain": [
       "1245"
      ]
     },
     "execution_count": 184,
     "metadata": {},
     "output_type": "execute_result"
    }
   ],
   "source": [
    "df_daily_return.count()"
   ]
  },
  {
   "cell_type": "code",
   "execution_count": 328,
   "metadata": {},
   "outputs": [],
   "source": [
    "df_daily_return = df_daily_return.withColumn(\"time_stamp\", F.to_timestamp(\"date\"))"
   ]
  },
  {
   "cell_type": "code",
   "execution_count": 374,
   "metadata": {},
   "outputs": [
    {
     "data": {
      "text/plain": [
       "249"
      ]
     },
     "execution_count": 374,
     "metadata": {},
     "output_type": "execute_result"
    }
   ],
   "source": [
    "days = df_daily_return.filter(F.col(\"ticker\") == \"AAPL\")\n",
    "days.count()"
   ]
  },
  {
   "cell_type": "code",
   "execution_count": 376,
   "metadata": {},
   "outputs": [],
   "source": [
    "AAPL_pos = df_daily_return.filter((F.col(\"ticker\") == \"AAPL\") & (F.col(\"daily_return\") >=0))\n",
    "GOOG_pos = df_daily_return.filter((F.col(\"ticker\") == \"GOOG\") & (F.col(\"daily_return\") <0))"
   ]
  },
  {
   "cell_type": "code",
   "execution_count": 378,
   "metadata": {},
   "outputs": [
    {
     "data": {
      "text/plain": [
       "134"
      ]
     },
     "execution_count": 378,
     "metadata": {},
     "output_type": "execute_result"
    }
   ],
   "source": [
    "AAPL_pos.count()"
   ]
  },
  {
   "cell_type": "code",
   "execution_count": 377,
   "metadata": {},
   "outputs": [
    {
     "data": {
      "text/plain": [
       "126"
      ]
     },
     "execution_count": 377,
     "metadata": {},
     "output_type": "execute_result"
    }
   ],
   "source": [
    "GOOG_pos.count()"
   ]
  },
  {
   "cell_type": "code",
   "execution_count": 335,
   "metadata": {
    "scrolled": true
   },
   "outputs": [
    {
     "name": "stdout",
     "output_type": "stream",
     "text": [
      "+----------+------+------+------+------+--------+------+-------------------+-------------------+\n",
      "|      date|  open|  high|   low| close|  volume|ticker|       daily_return|         time_stamp|\n",
      "+----------+------+------+------+------+--------+------+-------------------+-------------------+\n",
      "|2016-11-02| 111.4|112.35|111.23|111.59|28331709|  AAPL|0.18999999999999773|2016-11-02 00:00:00|\n",
      "|2016-10-26|114.31| 115.7|113.31|115.59|66134219|  AAPL| 1.2800000000000011|2016-10-26 00:00:00|\n",
      "+----------+------+------+------+------+--------+------+-------------------+-------------------+\n",
      "only showing top 2 rows\n",
      "\n"
     ]
    }
   ],
   "source": [
    "AAPL_pos.show(2)"
   ]
  },
  {
   "cell_type": "code",
   "execution_count": 406,
   "metadata": {},
   "outputs": [],
   "source": [
    "A_G = AAPL_pos.join(GOOG_pos, AAPL_pos.time_stamp == GOOG_pos.time_stamp, \"inner\" )"
   ]
  },
  {
   "cell_type": "code",
   "execution_count": 407,
   "metadata": {},
   "outputs": [
    {
     "data": {
      "text/plain": [
       "51"
      ]
     },
     "execution_count": 407,
     "metadata": {},
     "output_type": "execute_result"
    }
   ],
   "source": [
    "A_G.count()"
   ]
  },
  {
   "cell_type": "code",
   "execution_count": 408,
   "metadata": {},
   "outputs": [
    {
     "data": {
      "text/plain": [
       "'20.481927710843372%'"
      ]
     },
     "execution_count": 408,
     "metadata": {},
     "output_type": "execute_result"
    }
   ],
   "source": [
    "percentage = str((A_G.count()/days.count())*100) + \"%\"\n",
    "percentage"
   ]
  },
  {
   "cell_type": "markdown",
   "metadata": {},
   "source": [
    "### percentage = 20.481927710843372%"
   ]
  },
  {
   "cell_type": "markdown",
   "metadata": {},
   "source": [
    "## e."
   ]
  },
  {
   "cell_type": "code",
   "execution_count": 198,
   "metadata": {},
   "outputs": [
    {
     "data": {
      "text/plain": [
       "Row(date='2016-11-02', open='111.4', high='112.35', low='111.23', close='111.59', volume='28331709', ticker='AAPL', price_diff=1.1199999999999903, time_stamp=datetime.datetime(2016, 11, 2, 0, 0))"
      ]
     },
     "execution_count": 198,
     "metadata": {},
     "output_type": "execute_result"
    }
   ],
   "source": [
    "df_ts.first()"
   ]
  },
  {
   "cell_type": "code",
   "execution_count": 409,
   "metadata": {},
   "outputs": [],
   "source": [
    "df_ts = df_ts.withColumn(\"high\", df_ts[\"high\"].cast('float'))\n",
    "df_ts = df_ts.withColumn(\"low\", df_ts[\"low\"].cast(\"float\"))\n",
    "df_ts = df_ts.withColumn(\"close\", df_ts[\"close\"].cast(\"float\"))"
   ]
  },
  {
   "cell_type": "code",
   "execution_count": 410,
   "metadata": {},
   "outputs": [],
   "source": [
    "_max = df_ts.groupBy(F.col(\"ticker\").alias(\"Name\")).agg(F.max(\"close\").alias(\"max_close\"))\n",
    "_min = df_ts.groupBy(F.col(\"ticker\").alias(\"Name\")).agg(F.min(\"close\").alias(\"min_close\"))"
   ]
  },
  {
   "cell_type": "code",
   "execution_count": 411,
   "metadata": {},
   "outputs": [
    {
     "name": "stdout",
     "output_type": "stream",
     "text": [
      "+----+---------+\n",
      "|Name|max_close|\n",
      "+----+---------+\n",
      "| BLK|    376.0|\n",
      "|AAPL|   120.57|\n",
      "|TSLA|   265.42|\n",
      "|GOOG|   813.11|\n",
      "|MSFT|     61.0|\n",
      "+----+---------+\n",
      "\n"
     ]
    }
   ],
   "source": [
    "_max.show()"
   ]
  },
  {
   "cell_type": "code",
   "execution_count": 417,
   "metadata": {},
   "outputs": [
    {
     "data": {
      "text/plain": [
       "[Row(Name='BLK', max_close=376.0),\n",
       " Row(Name='AAPL', max_close=120.56999969482422),\n",
       " Row(Name='TSLA', max_close=265.4200134277344),\n",
       " Row(Name='GOOG', max_close=813.1099853515625),\n",
       " Row(Name='MSFT', max_close=61.0)]"
      ]
     },
     "execution_count": 417,
     "metadata": {},
     "output_type": "execute_result"
    }
   ],
   "source": [
    "_max.collect()"
   ]
  },
  {
   "cell_type": "code",
   "execution_count": 418,
   "metadata": {},
   "outputs": [],
   "source": [
    "a = df_ts.filter((F.col(\"ticker\") == \"BLK\") & (F.col(\"close\") == 376)).select('date','ticker', 'close')\n",
    "b = df_ts.filter((F.col(\"ticker\") == \"AAPL\") & (F.col(\"close\") == 120.56999969482422)).select('date','ticker', 'close')\n",
    "c = df_ts.filter((F.col(\"ticker\") == \"TSLA\") & (F.col(\"close\") == 265.4200134277344)).select('date','ticker', 'close')\n",
    "d = df_ts.filter((F.col(\"ticker\") == \"GOOG\") & (F.col(\"close\") == 813.1099853515625)).select('date','ticker', 'close')\n",
    "e = df_ts.filter((F.col(\"ticker\") == \"MSFT\") & (F.col(\"close\") == 61.0)).select('date','ticker', 'close')"
   ]
  },
  {
   "cell_type": "markdown",
   "metadata": {},
   "source": [
    "## highest closing price and their dates"
   ]
  },
  {
   "cell_type": "code",
   "execution_count": 420,
   "metadata": {},
   "outputs": [
    {
     "data": {
      "text/plain": [
       "[Row(date='2016-08-30', ticker='BLK', close=376.0),\n",
       " Row(date='2015-11-09', ticker='AAPL', close=120.56999969482422),\n",
       " Row(date='2016-04-06', ticker='TSLA', close=265.4200134277344),\n",
       " Row(date='2016-10-24', ticker='GOOG', close=813.1099853515625),\n",
       " Row(date='2016-10-24', ticker='MSFT', close=61.0)]"
      ]
     },
     "execution_count": 420,
     "metadata": {},
     "output_type": "execute_result"
    }
   ],
   "source": [
    "a.union(b).union(c).union(d).union(e).collect()"
   ]
  },
  {
   "cell_type": "code",
   "execution_count": 421,
   "metadata": {},
   "outputs": [
    {
     "data": {
      "text/plain": [
       "[Row(Name='BLK', min_close=289.7200012207031),\n",
       " Row(Name='AAPL', min_close=90.33999633789062),\n",
       " Row(Name='TSLA', min_close=143.6699981689453),\n",
       " Row(Name='GOOG', min_close=668.260009765625),\n",
       " Row(Name='MSFT', min_close=48.43000030517578)]"
      ]
     },
     "execution_count": 421,
     "metadata": {},
     "output_type": "execute_result"
    }
   ],
   "source": [
    "_min.collect()"
   ]
  },
  {
   "cell_type": "code",
   "execution_count": 424,
   "metadata": {},
   "outputs": [],
   "source": [
    "a = df_ts.filter((F.col(\"ticker\") == \"BLK\") & (F.col(\"close\") == 289.7200012207031)).select('date','ticker', 'close')\n",
    "b = df_ts.filter((F.col(\"ticker\") == \"AAPL\") & (F.col(\"close\") == 90.33999633789062)).select('date','ticker', 'close')\n",
    "c = df_ts.filter((F.col(\"ticker\") == \"TSLA\") & (F.col(\"close\") == 143.6699981689453)).select('date','ticker', 'close')\n",
    "d = df_ts.filter((F.col(\"ticker\") == \"GOOG\") & (F.col(\"close\") == 668.260009765625)).select('date','ticker', 'close')\n",
    "e = df_ts.filter((F.col(\"ticker\") == \"MSFT\") & (F.col(\"close\") == 48.43000030517578)).select('date','ticker', 'close')"
   ]
  },
  {
   "cell_type": "markdown",
   "metadata": {},
   "source": [
    "### Lowest closing price and their dates"
   ]
  },
  {
   "cell_type": "code",
   "execution_count": 425,
   "metadata": {},
   "outputs": [
    {
     "data": {
      "text/plain": [
       "[Row(date='2016-01-25', ticker='BLK', close=289.7200012207031),\n",
       " Row(date='2016-05-12', ticker='AAPL', close=90.33999633789062),\n",
       " Row(date='2016-02-10', ticker='TSLA', close=143.6699981689453),\n",
       " Row(date='2016-06-27', ticker='GOOG', close=668.260009765625),\n",
       " Row(date='2016-06-27', ticker='MSFT', close=48.43000030517578)]"
      ]
     },
     "execution_count": 425,
     "metadata": {},
     "output_type": "execute_result"
    }
   ],
   "source": [
    "a.union(b).union(c).union(d).union(e).collect()"
   ]
  },
  {
   "cell_type": "markdown",
   "metadata": {},
   "source": [
    "## f."
   ]
  },
  {
   "cell_type": "code",
   "execution_count": 428,
   "metadata": {},
   "outputs": [],
   "source": [
    "df_ts = df_ts.withColumn(\"close\", df_ts[\"close\"].cast(\"float\"))\n",
    "df_ts = df_ts.withColumn(\"volume\", df_ts[\"volume\"].cast(\"float\"))"
   ]
  },
  {
   "cell_type": "code",
   "execution_count": 429,
   "metadata": {},
   "outputs": [],
   "source": [
    "df_ts = df_ts.withColumn(\"freq\", df_ts[\"close\"]* df_ts[\"volume\"])"
   ]
  },
  {
   "cell_type": "code",
   "execution_count": 431,
   "metadata": {},
   "outputs": [
    {
     "data": {
      "text/plain": [
       "[Row(ticker='AAPL', avg(freq)=4112931005.686747),\n",
       " Row(ticker='MSFT', avg(freq)=1725271740.5301204),\n",
       " Row(ticker='GOOG', avg(freq)=1349722722.698795),\n",
       " Row(ticker='TSLA', avg(freq)=928122117.1405623),\n",
       " Row(ticker='BLK', avg(freq)=233390101.17269075)]"
      ]
     },
     "execution_count": 431,
     "metadata": {},
     "output_type": "execute_result"
    }
   ],
   "source": [
    "df_ts.groupBy(\"ticker\").agg(F.avg(\"freq\")).sort(F.desc(\"avg(freq)\")).collect()"
   ]
  },
  {
   "cell_type": "markdown",
   "metadata": {},
   "source": [
    "##### most traded stock = AAPL"
   ]
  },
  {
   "cell_type": "markdown",
   "metadata": {},
   "source": [
    "## g."
   ]
  },
  {
   "cell_type": "code",
   "execution_count": 385,
   "metadata": {},
   "outputs": [
    {
     "data": {
      "text/plain": [
       "[Row(month=1, avg_freq=2394495128.0842104),\n",
       " Row(month=2, avg_freq=1903065293.6),\n",
       " Row(month=4, avg_freq=1851668877.0285714),\n",
       " Row(month=12, avg_freq=1808507178.9818182),\n",
       " Row(month=9, avg_freq=1693282200.8380952),\n",
       " Row(month=11, avg_freq=1637244437.6470587),\n",
       " Row(month=6, avg_freq=1587477849.3090909),\n",
       " Row(month=10, avg_freq=1586737538.4380953),\n",
       " Row(month=5, avg_freq=1550525001.6761904),\n",
       " Row(month=3, avg_freq=1529972108.6545455),\n",
       " Row(month=7, avg_freq=1453321110.48),\n",
       " Row(month=8, avg_freq=1158615777.3217392)]"
      ]
     },
     "execution_count": 385,
     "metadata": {},
     "output_type": "execute_result"
    }
   ],
   "source": [
    "df_month = df_ts.groupBy(F.month(\"time_stamp\").alias(\"month\")).agg(F.avg(\"freq\").alias(\"avg_freq\")).orderBy(\"avg_freq\").sort(F.desc(\"avg_freq\"))\n",
    "df_month.collect()"
   ]
  },
  {
   "cell_type": "markdown",
   "metadata": {},
   "source": [
    "### month with highest trading frequency on average = January"
   ]
  },
  {
   "cell_type": "markdown",
   "metadata": {},
   "source": [
    "### h."
   ]
  },
  {
   "cell_type": "code",
   "execution_count": 389,
   "metadata": {
    "scrolled": true
   },
   "outputs": [
    {
     "data": {
      "text/plain": [
       "[Row(week_strt_day=datetime.date(2015, 12, 13), avg_freq=2506002214.4),\n",
       " Row(week_strt_day=datetime.date(2016, 9, 11), avg_freq=2501410097.28),\n",
       " Row(week_strt_day=datetime.date(2016, 1, 3), avg_freq=2498076842.24),\n",
       " Row(week_strt_day=datetime.date(2016, 1, 31), avg_freq=2469173722.24),\n",
       " Row(week_strt_day=datetime.date(2016, 1, 24), avg_freq=2451333396.48),\n",
       " Row(week_strt_day=datetime.date(2016, 1, 10), avg_freq=2356512701.44),\n",
       " Row(week_strt_day=datetime.date(2016, 4, 24), avg_freq=2286831214.72),\n",
       " Row(week_strt_day=datetime.date(2016, 1, 17), avg_freq=2241448183.2),\n",
       " Row(week_strt_day=datetime.date(2016, 10, 23), avg_freq=2082543161.6),\n",
       " Row(week_strt_day=datetime.date(2016, 2, 7), avg_freq=2081954122.88),\n",
       " Row(week_strt_day=datetime.date(2016, 6, 19), avg_freq=2061030392.96),\n",
       " Row(week_strt_day=datetime.date(2016, 4, 17), avg_freq=2020532625.28),\n",
       " Row(week_strt_day=datetime.date(2015, 11, 29), avg_freq=2006943319.68),\n",
       " Row(week_strt_day=datetime.date(2016, 7, 24), avg_freq=1902865854.72),\n",
       " Row(week_strt_day=datetime.date(2015, 11, 8), avg_freq=1871834455.68),\n",
       " Row(week_strt_day=datetime.date(2015, 12, 6), avg_freq=1758165111.04),\n",
       " Row(week_strt_day=datetime.date(2016, 5, 1), avg_freq=1679339196.8),\n",
       " Row(week_strt_day=datetime.date(2016, 2, 28), avg_freq=1670286881.92),\n",
       " Row(week_strt_day=datetime.date(2016, 6, 12), avg_freq=1659845486.72),\n",
       " Row(week_strt_day=datetime.date(2016, 2, 14), avg_freq=1640456087.2),\n",
       " Row(week_strt_day=datetime.date(2015, 11, 15), avg_freq=1639381310.08),\n",
       " Row(week_strt_day=datetime.date(2016, 10, 30), avg_freq=1635160349.8666666),\n",
       " Row(week_strt_day=datetime.date(2016, 3, 13), avg_freq=1632521873.28),\n",
       " Row(week_strt_day=datetime.date(2016, 6, 26), avg_freq=1599407020.16),\n",
       " Row(week_strt_day=datetime.date(2016, 4, 3), avg_freq=1584559366.72),\n",
       " Row(week_strt_day=datetime.date(2016, 10, 9), avg_freq=1583007343.36),\n",
       " Row(week_strt_day=datetime.date(2016, 5, 15), avg_freq=1551056902.4),\n",
       " Row(week_strt_day=datetime.date(2016, 9, 4), avg_freq=1546765753.6),\n",
       " Row(week_strt_day=datetime.date(2016, 7, 31), avg_freq=1536304735.36),\n",
       " Row(week_strt_day=datetime.date(2016, 3, 6), avg_freq=1529897938.56),\n",
       " Row(week_strt_day=datetime.date(2016, 10, 16), avg_freq=1510027231.36),\n",
       " Row(week_strt_day=datetime.date(2016, 4, 10), avg_freq=1509559943.04),\n",
       " Row(week_strt_day=datetime.date(2016, 5, 22), avg_freq=1506252742.72),\n",
       " Row(week_strt_day=datetime.date(2016, 9, 18), avg_freq=1505924871.68),\n",
       " Row(week_strt_day=datetime.date(2016, 3, 27), avg_freq=1504398736.0),\n",
       " Row(week_strt_day=datetime.date(2016, 7, 17), avg_freq=1473808633.28),\n",
       " Row(week_strt_day=datetime.date(2016, 2, 21), avg_freq=1441343685.12),\n",
       " Row(week_strt_day=datetime.date(2016, 5, 8), avg_freq=1430060446.72),\n",
       " Row(week_strt_day=datetime.date(2016, 9, 25), avg_freq=1352066250.88),\n",
       " Row(week_strt_day=datetime.date(2016, 3, 20), avg_freq=1347153445.6),\n",
       " Row(week_strt_day=datetime.date(2016, 5, 29), avg_freq=1343557033.6),\n",
       " Row(week_strt_day=datetime.date(2015, 12, 27), avg_freq=1337339046.4),\n",
       " Row(week_strt_day=datetime.date(2015, 12, 20), avg_freq=1259353286.8),\n",
       " Row(week_strt_day=datetime.date(2015, 11, 22), avg_freq=1238699231.2),\n",
       " Row(week_strt_day=datetime.date(2016, 7, 3), avg_freq=1235170169.6),\n",
       " Row(week_strt_day=datetime.date(2016, 7, 10), avg_freq=1213985754.24),\n",
       " Row(week_strt_day=datetime.date(2016, 8, 28), avg_freq=1184362698.24),\n",
       " Row(week_strt_day=datetime.date(2016, 10, 2), avg_freq=1181046728.32),\n",
       " Row(week_strt_day=datetime.date(2016, 6, 5), avg_freq=1169757792.64),\n",
       " Row(week_strt_day=datetime.date(2016, 8, 21), avg_freq=1049677048.32),\n",
       " Row(week_strt_day=datetime.date(2016, 8, 7), avg_freq=1038350774.4),\n",
       " Row(week_strt_day=datetime.date(2016, 8, 14), avg_freq=1035908740.16)]"
      ]
     },
     "execution_count": 389,
     "metadata": {},
     "output_type": "execute_result"
    }
   ],
   "source": [
    "df_ts.withColumn(\"week_strt_day\",F.date_sub(F.next_day(F.col(\"time_stamp\"),\"sunday\"),7)).groupBy(\"week_strt_day\").agg(F.avg(\"freq\").alias(\"avg_freq\")).sort(F.desc(\"avg_freq\")).collect()"
   ]
  },
  {
   "cell_type": "code",
   "execution_count": 390,
   "metadata": {
    "scrolled": true
   },
   "outputs": [
    {
     "data": {
      "text/plain": [
       "50"
      ]
     },
     "execution_count": 390,
     "metadata": {},
     "output_type": "execute_result"
    }
   ],
   "source": [
    "import datetime\n",
    "datetime.date(2015, 12, 13).isocalendar()[1]\n"
   ]
  },
  {
   "cell_type": "markdown",
   "metadata": {},
   "source": [
    "### week 50"
   ]
  }
 ],
 "metadata": {
  "kernelspec": {
   "display_name": "Python 3",
   "language": "python",
   "name": "python3"
  },
  "language_info": {
   "codemirror_mode": {
    "name": "ipython",
    "version": 3
   },
   "file_extension": ".py",
   "mimetype": "text/x-python",
   "name": "python",
   "nbconvert_exporter": "python",
   "pygments_lexer": "ipython3",
   "version": "3.6.9"
  }
 },
 "nbformat": 4,
 "nbformat_minor": 4
}
